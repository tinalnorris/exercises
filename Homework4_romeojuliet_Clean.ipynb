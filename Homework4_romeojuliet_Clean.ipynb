{
 "metadata": {
  "name": "",
  "signature": "sha256:226d2b5b3e82fe031bbfe4bbfa31c62c54d1f4ba186079e527132a5bef952276"
 },
 "nbformat": 3,
 "nbformat_minor": 0,
 "worksheets": [
  {
   "cells": [
    {
     "cell_type": "code",
     "collapsed": false,
     "input": [
      "cd C:\\Users\\madde\\Documents\\work\\JPSM\\BIGDATA_699"
     ],
     "language": "python",
     "metadata": {},
     "outputs": [
      {
       "output_type": "stream",
       "stream": "stdout",
       "text": [
        "C:\\Users\\madde\\Documents\\work\\JPSM\\BIGDATA_699\n"
       ]
      }
     ],
     "prompt_number": 2
    },
    {
     "cell_type": "code",
     "collapsed": false,
     "input": [
      "# store file name.\n",
      "file_name = \"pg1513.txt\"\n",
      "\n",
      "# open the file.\n",
      "my_file = open( \"pg1513.txt\", \"r\")\n",
      "num_lines = 0\n",
      "num_words = 0\n",
      "num_chars = 0\n",
      "\n",
      "with open(\"pg1513.txt\", 'r') as f:\n",
      "    for line in f:\n",
      "        words = line.split()\n",
      "\n",
      "        num_lines += 1\n",
      "        num_words += len(words)\n",
      "        num_chars += len(line)\n",
      "print (num_lines)\n",
      "print (num_words)\n",
      "print (num_chars)\n",
      "my_file.close()"
     ],
     "language": "python",
     "metadata": {},
     "outputs": [
      {
       "output_type": "stream",
       "stream": "stdout",
       "text": [
        "5567\n",
        "27463\n",
        "153939\n"
       ]
      }
     ],
     "prompt_number": 3
    },
    {
     "cell_type": "code",
     "collapsed": false,
     "input": [],
     "language": "python",
     "metadata": {},
     "outputs": []
    }
   ],
   "metadata": {}
  }
 ]
}